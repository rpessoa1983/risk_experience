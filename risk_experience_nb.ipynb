{
  "cells": [
    {
      "cell_type": "markdown",
      "metadata": {
        "id": "5YI8_otb3yJT"
      },
      "source": [
        "# Vigilance and Process Management Sytem"
      ]
    },
    {
      "cell_type": "code",
      "execution_count": 23,
      "metadata": {
        "id": "1HxrQM-K3yJW"
      },
      "outputs": [],
      "source": [
        "# Function defined by \n",
        "\n",
        "def risk_exp(lamb, conf, K, t):\n",
        "    import math\n",
        "    s = K**(1-conf) \n",
        "    arg = -lamb*s*t \n",
        "    R = list(map(lambda x: math.exp(x),arg))    \n",
        "    return R"
      ]
    },
    {
      "cell_type": "markdown",
      "metadata": {
        "id": "_erAZuzi3yJX"
      },
      "source": [
        "## Test\n",
        "\n"
      ]
    },
    {
      "cell_type": "code",
      "execution_count": 25,
      "metadata": {
        "id": "1HBxrmWn3yJX"
      },
      "outputs": [],
      "source": [
        "## calculo de confiabilidade com confirmade 0.5\n",
        "#R = risk_exp(0.001,0.5,3,1)"
      ]
    },
    {
      "cell_type": "markdown",
      "metadata": {
        "id": "FVUfGXPA3yJX"
      },
      "source": [
        "## Colors Goethe \n",
        "\n"
      ]
    },
    {
      "cell_type": "code",
      "execution_count": 26,
      "metadata": {
        "colab": {
          "base_uri": "https://localhost:8080/"
        },
        "id": "LaFTOiz73yJY",
        "outputId": "3b045533-e1cd-4cf4-97f0-b437adafbe37"
      },
      "outputs": [
        {
          "output_type": "execute_result",
          "data": {
            "text/plain": [
              "{'524557', '545D7A', '8C7E57', 'B74F4C', 'D28630'}"
            ]
          },
          "metadata": {},
          "execution_count": 26
        }
      ],
      "source": [
        "colours_goethe = {'D28630','8C7E57','545D7A','524557','B74F4C'}\n",
        "\n",
        "colours_goethe"
      ]
    },
    {
      "cell_type": "code",
      "execution_count": 29,
      "metadata": {
        "colab": {
          "base_uri": "https://localhost:8080/"
        },
        "id": "uBOGArnh3yJY",
        "outputId": "76e0e3a2-f18d-415a-8101-ede19855baac"
      },
      "outputs": [
        {
          "output_type": "stream",
          "name": "stdout",
          "text": [
            "[1.0, 0.985957394633712, 0.9721119840328972, 0.958460999069284, 0.9450017095003759, 0.9317314234233945, 0.91864748673689, 0.9057472826099114, 0.8930282309586327, 0.8804877879303263, 0.8681234453945849]\n"
          ]
        }
      ],
      "source": [
        "import numpy as np\n",
        "import pandas as pd\n",
        "import matplotlib.pyplot as plt\n",
        "\n",
        "lamb = 0.1\n",
        "conf = 0.5\n",
        "K = 2\n",
        "t = pd.Series([0,0.1,0.2,0.3,0.4,0.5,0.6,0.7,0.8, 0.9, 1.0])\n",
        "\n",
        "#map(lambda x: 2*x, t)\n",
        "R = risk_exp(lamb,conf,K,t)\n",
        "\n",
        "print(R)\n",
        "\n",
        "\n",
        "\n"
      ]
    }
  ],
  "metadata": {
    "interpreter": {
      "hash": "19ef5754d29c9bb12aff20d21a4d3cd1ea664390429f20b1ac1d68b1980c7674"
    },
    "kernelspec": {
      "display_name": "Python 3.9.10 64-bit (windows store)",
      "language": "python",
      "name": "python3"
    },
    "language_info": {
      "codemirror_mode": {
        "name": "ipython",
        "version": 3
      },
      "file_extension": ".py",
      "mimetype": "text/x-python",
      "name": "python",
      "nbconvert_exporter": "python",
      "pygments_lexer": "ipython3",
      "version": "3.9.10"
    },
    "orig_nbformat": 4,
    "colab": {
      "name": "risk_experience_nb.ipynb",
      "provenance": []
    }
  },
  "nbformat": 4,
  "nbformat_minor": 0
}