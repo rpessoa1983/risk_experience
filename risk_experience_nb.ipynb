{
  "cells": [
    {
      "cell_type": "markdown",
      "metadata": {
        "id": "5YI8_otb3yJT"
      },
      "source": [
        "# Vigilance and Process Management Sytem"
      ]
    },
    {
      "cell_type": "code",
      "execution_count": null,
      "metadata": {
        "id": "1HxrQM-K3yJW"
      },
      "outputs": [],
      "source": [
        "# Function defined by \n",
        "\n",
        "def risk_exp(lamb, conf, K, t):\n",
        "    import math\n",
        "    s = K**(1-conf) \n",
        "    R = math.exp(-lamb*s*t)    \n",
        "    return R"
      ]
    },
    {
      "cell_type": "markdown",
      "metadata": {
        "id": "_erAZuzi3yJX"
      },
      "source": [
        "## Test\n",
        "\n"
      ]
    },
    {
      "cell_type": "code",
      "execution_count": null,
      "metadata": {
        "id": "1HBxrmWn3yJX"
      },
      "outputs": [],
      "source": [
        "## calculo de confiabilidade com confirmade 0.5\n",
        "R = risk_exp(0.001,0.5,3,1)"
      ]
    },
    {
      "cell_type": "markdown",
      "metadata": {
        "id": "FVUfGXPA3yJX"
      },
      "source": [
        "## Colors Goethe \n",
        "\n"
      ]
    },
    {
      "cell_type": "code",
      "execution_count": null,
      "metadata": {
        "id": "LaFTOiz73yJY",
        "outputId": "82f95f94-4823-4450-db85-c95faba1c504"
      },
      "outputs": [
        {
          "data": {
            "text/plain": [
              "{'524557', '545D7A', '8C7E57', 'B74F4C', 'D28630'}"
            ]
          },
          "execution_count": 14,
          "metadata": {},
          "output_type": "execute_result"
        }
      ],
      "source": [
        "colours_goethe = {'D28630','8C7E57','545D7A','524557','B74F4C'}\n",
        "\n",
        "colours_goethe"
      ]
    },
    {
      "cell_type": "code",
      "execution_count": 1,
      "metadata": {
        "id": "uBOGArnh3yJY"
      },
      "outputs": [],
      "source": [
        "import numpy as np\n",
        "import matplotlib.pyplot as plt\n",
        "\n",
        "\n"
      ]
    }
  ],
  "metadata": {
    "interpreter": {
      "hash": "19ef5754d29c9bb12aff20d21a4d3cd1ea664390429f20b1ac1d68b1980c7674"
    },
    "kernelspec": {
      "display_name": "Python 3.9.10 64-bit (windows store)",
      "language": "python",
      "name": "python3"
    },
    "language_info": {
      "codemirror_mode": {
        "name": "ipython",
        "version": 3
      },
      "file_extension": ".py",
      "mimetype": "text/x-python",
      "name": "python",
      "nbconvert_exporter": "python",
      "pygments_lexer": "ipython3",
      "version": "3.9.10"
    },
    "orig_nbformat": 4,
    "colab": {
      "name": "risk_experience_nb.ipynb",
      "provenance": []
    }
  },
  "nbformat": 4,
  "nbformat_minor": 0
}