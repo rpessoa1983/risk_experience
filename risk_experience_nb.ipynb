{
  "cells": [
    {
      "cell_type": "markdown",
      "metadata": {
        "id": "5YI8_otb3yJT"
      },
      "source": [
        "# Vigilance and Process Management Sytem"
      ]
    },
    {
      "cell_type": "code",
      "execution_count": 11,
      "metadata": {
        "id": "1HxrQM-K3yJW"
      },
      "outputs": [],
      "source": [
        "# Function defined by \n",
        "\n",
        "def risk_exp(lamb, conf, K, t):\n",
        "    import math\n",
        "    s = K**(1-conf) \n",
        "    arg = -lamb*s*t \n",
        "    R = list(map(lambda x: math.exp(x),arg))    \n",
        "    return R"
      ]
    },
    {
      "cell_type": "markdown",
      "metadata": {
        "id": "_erAZuzi3yJX"
      },
      "source": [
        "## Test\n",
        "\n"
      ]
    },
    {
      "cell_type": "code",
      "execution_count": 12,
      "metadata": {
        "id": "1HBxrmWn3yJX"
      },
      "outputs": [],
      "source": [
        "## calculo de confiabilidade com confirmade 0.5\n",
        "#R = risk_exp(0.001,0.5,3,1)"
      ]
    },
    {
      "cell_type": "markdown",
      "metadata": {
        "id": "FVUfGXPA3yJX"
      },
      "source": [
        "\n",
        "\n",
        "```\n",
        "# Isto está formatado como código\n",
        "```\n",
        "\n",
        "## Colors Goethe \n",
        "\n"
      ]
    },
    {
      "cell_type": "code",
      "execution_count": 13,
      "metadata": {
        "colab": {
          "base_uri": "https://localhost:8080/"
        },
        "id": "LaFTOiz73yJY",
        "outputId": "5a79f823-2092-495c-d336-629db364a9e7"
      },
      "outputs": [
        {
          "output_type": "execute_result",
          "data": {
            "text/plain": [
              "['#D28630', '#8C7E57', '#545D7A', '#524557', '#B74F4C']"
            ]
          },
          "metadata": {},
          "execution_count": 13
        }
      ],
      "source": [
        "colours_goethe = ['#D28630','#8C7E57','#545D7A','#524557','#B74F4C']\n",
        "\n",
        "colours_goethe"
      ]
    },
    {
      "cell_type": "markdown",
      "source": [
        "## Results"
      ],
      "metadata": {
        "id": "0zR6WEGukBzg"
      }
    },
    {
      "cell_type": "code",
      "execution_count": 14,
      "metadata": {
        "colab": {
          "base_uri": "https://localhost:8080/",
          "height": 357
        },
        "id": "uBOGArnh3yJY",
        "outputId": "b0da63e1-44ec-41e7-8bb0-aa4fbfe0b18b"
      },
      "outputs": [
        {
          "output_type": "error",
          "ename": "ValueError",
          "evalue": "ignored",
          "traceback": [
            "\u001b[0;31m---------------------------------------------------------------------------\u001b[0m",
            "\u001b[0;31mValueError\u001b[0m                                Traceback (most recent call last)",
            "\u001b[0;32m<ipython-input-14-4940c050f101>\u001b[0m in \u001b[0;36m<module>\u001b[0;34m()\u001b[0m\n\u001b[1;32m     18\u001b[0m \u001b[0mconf\u001b[0m \u001b[0;34m=\u001b[0m \u001b[0;34m(\u001b[0m\u001b[0mnp\u001b[0m\u001b[0;34m.\u001b[0m\u001b[0mones\u001b[0m\u001b[0;34m(\u001b[0m\u001b[0;36m20\u001b[0m\u001b[0;34m)\u001b[0m\u001b[0;34m)\u001b[0m\u001b[0;34m*\u001b[0m\u001b[0;36m0.8\u001b[0m\u001b[0;34m\u001b[0m\u001b[0;34m\u001b[0m\u001b[0m\n\u001b[1;32m     19\u001b[0m \u001b[0mconf\u001b[0m\u001b[0;34m[\u001b[0m\u001b[0;36m7\u001b[0m\u001b[0;34m:\u001b[0m\u001b[0;36m13\u001b[0m\u001b[0;34m]\u001b[0m \u001b[0;34m=\u001b[0m \u001b[0;36m0.5\u001b[0m\u001b[0;34m\u001b[0m\u001b[0;34m\u001b[0m\u001b[0m\n\u001b[0;32m---> 20\u001b[0;31m \u001b[0mR\u001b[0m \u001b[0;34m=\u001b[0m \u001b[0mrisk_exp\u001b[0m\u001b[0;34m(\u001b[0m\u001b[0mlamb\u001b[0m\u001b[0;34m,\u001b[0m\u001b[0mconf\u001b[0m\u001b[0;34m,\u001b[0m\u001b[0mK\u001b[0m\u001b[0;34m,\u001b[0m\u001b[0mt\u001b[0m\u001b[0;34m)\u001b[0m\u001b[0;34m\u001b[0m\u001b[0;34m\u001b[0m\u001b[0m\n\u001b[0m\u001b[1;32m     21\u001b[0m \u001b[0;31m#plot\u001b[0m\u001b[0;34m\u001b[0m\u001b[0;34m\u001b[0m\u001b[0;34m\u001b[0m\u001b[0m\n\u001b[1;32m     22\u001b[0m \u001b[0mplt\u001b[0m\u001b[0;34m.\u001b[0m\u001b[0mstep\u001b[0m\u001b[0;34m(\u001b[0m\u001b[0mt\u001b[0m\u001b[0;34m,\u001b[0m \u001b[0mR\u001b[0m\u001b[0;34m,\u001b[0m \u001b[0mlabel\u001b[0m\u001b[0;34m=\u001b[0m\u001b[0;34m'Step'\u001b[0m\u001b[0;34m)\u001b[0m\u001b[0;34m\u001b[0m\u001b[0;34m\u001b[0m\u001b[0m\n",
            "\u001b[0;32m<ipython-input-11-2f9dca29ec21>\u001b[0m in \u001b[0;36mrisk_exp\u001b[0;34m(lamb, conf, K, t)\u001b[0m\n\u001b[1;32m      4\u001b[0m     \u001b[0;32mimport\u001b[0m \u001b[0mmath\u001b[0m\u001b[0;34m\u001b[0m\u001b[0;34m\u001b[0m\u001b[0m\n\u001b[1;32m      5\u001b[0m     \u001b[0ms\u001b[0m \u001b[0;34m=\u001b[0m \u001b[0mK\u001b[0m\u001b[0;34m**\u001b[0m\u001b[0;34m(\u001b[0m\u001b[0;36m1\u001b[0m\u001b[0;34m-\u001b[0m\u001b[0mconf\u001b[0m\u001b[0;34m)\u001b[0m\u001b[0;34m\u001b[0m\u001b[0;34m\u001b[0m\u001b[0m\n\u001b[0;32m----> 6\u001b[0;31m     \u001b[0marg\u001b[0m \u001b[0;34m=\u001b[0m \u001b[0;34m-\u001b[0m\u001b[0mlamb\u001b[0m\u001b[0;34m*\u001b[0m\u001b[0ms\u001b[0m\u001b[0;34m*\u001b[0m\u001b[0mt\u001b[0m\u001b[0;34m\u001b[0m\u001b[0;34m\u001b[0m\u001b[0m\n\u001b[0m\u001b[1;32m      7\u001b[0m     \u001b[0mR\u001b[0m \u001b[0;34m=\u001b[0m \u001b[0mlist\u001b[0m\u001b[0;34m(\u001b[0m\u001b[0mmap\u001b[0m\u001b[0;34m(\u001b[0m\u001b[0;32mlambda\u001b[0m \u001b[0mx\u001b[0m\u001b[0;34m:\u001b[0m \u001b[0mmath\u001b[0m\u001b[0;34m.\u001b[0m\u001b[0mexp\u001b[0m\u001b[0;34m(\u001b[0m\u001b[0mx\u001b[0m\u001b[0;34m)\u001b[0m\u001b[0;34m,\u001b[0m\u001b[0marg\u001b[0m\u001b[0;34m)\u001b[0m\u001b[0;34m)\u001b[0m\u001b[0;34m\u001b[0m\u001b[0;34m\u001b[0m\u001b[0m\n\u001b[1;32m      8\u001b[0m     \u001b[0;32mreturn\u001b[0m \u001b[0mR\u001b[0m\u001b[0;34m\u001b[0m\u001b[0;34m\u001b[0m\u001b[0m\n",
            "\u001b[0;31mValueError\u001b[0m: operands could not be broadcast together with shapes (20,) (1000,) "
          ]
        }
      ],
      "source": [
        "import numpy as np\n",
        "import pandas as pd\n",
        "import matplotlib.pyplot as plt\n",
        "\n",
        "# time\n",
        "\n",
        "tmin = 0\n",
        "tmax = 100\n",
        "n_pt = 1000\n",
        "t = np.linspace(tmin,tmax,n_pt)\n",
        "\n",
        "\n",
        "# First \n",
        "lamb = 0.1\n",
        "conf = 0.5\n",
        "K = 2\n",
        "#t = pd.Series([0,0.1,0.2,0.3,0.4,0.5,0.6,0.7,0.8, 0.9, 1.0])\n",
        "conf = (np.ones(20))*0.8\n",
        "conf[7:13] = 0.5\n",
        "R = risk_exp(lamb,conf,K,t)\n",
        "#plot\n",
        "plt.step(t, R, label='Step')\n",
        "plt.plot(t, R, 'o--', color=colours_goethe[0], alpha=0.3)\n",
        "\n",
        "# Second\n",
        "lamb = 0.01\n",
        "K = 2\n",
        "conf = (np.ones(20))*0.8\n",
        "conf[7:13] = 0.2\n",
        "R = risk_exp(lamb,conf,K,t)\n",
        "# plot\n",
        "plt.step(t, R, label='Step')\n",
        "plt.plot(t, R, 'o--', color=colours_goethe[1], alpha=0.3)\n",
        "\n",
        "# Third \n",
        "# Second\n",
        "lamb = 0.001\n",
        "K = 2\n",
        "conf = (np.ones(20))*0.8\n",
        "conf[7:13] = 0.2\n",
        "R = risk_exp(lamb,conf,K,t)\n",
        "# plot\n",
        "plt.step(t, R, label='Step')\n",
        "plt.plot(t, R, 'o--', color=colours_goethe[2], alpha=0.3)\n",
        "\n",
        "\n",
        "\n",
        "\n",
        "\n"
      ]
    },
    {
      "cell_type": "code",
      "source": [
        "\n",
        "colours_goethe[0]"
      ],
      "metadata": {
        "id": "vWwqtXf5yiDO"
      },
      "execution_count": null,
      "outputs": []
    }
  ],
  "metadata": {
    "interpreter": {
      "hash": "19ef5754d29c9bb12aff20d21a4d3cd1ea664390429f20b1ac1d68b1980c7674"
    },
    "kernelspec": {
      "display_name": "Python 3.9.10 64-bit (windows store)",
      "language": "python",
      "name": "python3"
    },
    "language_info": {
      "codemirror_mode": {
        "name": "ipython",
        "version": 3
      },
      "file_extension": ".py",
      "mimetype": "text/x-python",
      "name": "python",
      "nbconvert_exporter": "python",
      "pygments_lexer": "ipython3",
      "version": "3.9.10"
    },
    "orig_nbformat": 4,
    "colab": {
      "name": "risk_experience_nb.ipynb",
      "provenance": []
    }
  },
  "nbformat": 4,
  "nbformat_minor": 0
}