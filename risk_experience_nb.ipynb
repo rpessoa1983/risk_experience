{
  "cells": [
    {
      "cell_type": "markdown",
      "metadata": {
        "id": "5YI8_otb3yJT"
      },
      "source": [
        "# Vigilance and Process Management Sytem"
      ]
    },
    {
      "cell_type": "code",
      "execution_count": 50,
      "metadata": {
        "id": "1HxrQM-K3yJW"
      },
      "outputs": [],
      "source": [
        "# Function defined by \n",
        "\n",
        "def risk_exp(lamb, conf, K, t):\n",
        "    import math\n",
        "    s = K**(1-conf) \n",
        "    arg = -lamb*s*t \n",
        "    R = list(map(lambda x: math.exp(x),arg))    \n",
        "    return R"
      ]
    },
    {
      "cell_type": "markdown",
      "metadata": {
        "id": "_erAZuzi3yJX"
      },
      "source": [
        "## Test\n",
        "\n"
      ]
    },
    {
      "cell_type": "code",
      "execution_count": 51,
      "metadata": {
        "id": "1HBxrmWn3yJX"
      },
      "outputs": [],
      "source": [
        "## calculo de confiabilidade com confirmade 0.5\n",
        "#R = risk_exp(0.001,0.5,3,1)"
      ]
    },
    {
      "cell_type": "markdown",
      "metadata": {
        "id": "FVUfGXPA3yJX"
      },
      "source": [
        "\n",
        "\n",
        "```\n",
        "# Isto está formatado como código\n",
        "```\n",
        "\n",
        "## Colors Goethe \n",
        "\n"
      ]
    },
    {
      "cell_type": "code",
      "execution_count": 52,
      "metadata": {
        "colab": {
          "base_uri": "https://localhost:8080/"
        },
        "id": "LaFTOiz73yJY",
        "outputId": "0e47953e-f5dd-456c-b6a0-af5e8fcc29ad"
      },
      "outputs": [
        {
          "output_type": "execute_result",
          "data": {
            "text/plain": [
              "['#D28630', '#8C7E57', '#545D7A', '#524557', '#B74F4C']"
            ]
          },
          "metadata": {},
          "execution_count": 52
        }
      ],
      "source": [
        "colours_goethe = ['#D28630','#8C7E57','#545D7A','#524557','#B74F4C']\n",
        "\n",
        "colours_goethe"
      ]
    },
    {
      "cell_type": "markdown",
      "source": [
        "## Results"
      ],
      "metadata": {
        "id": "0zR6WEGukBzg"
      }
    },
    {
      "cell_type": "code",
      "execution_count": 53,
      "metadata": {
        "id": "uBOGArnh3yJY"
      },
      "outputs": [],
      "source": [
        "import numpy as np\n",
        "import pandas as pd\n",
        "import matplotlib.pyplot as plt\n",
        "\n",
        "# time\n",
        "\n",
        "tmin = 0\n",
        "tmax = 100\n",
        "n_pt = 20\n",
        "t = np.linspace(tmin,tmax,n_pt)"
      ]
    },
    {
      "cell_type": "markdown",
      "source": [
        "## Frequency λ"
      ],
      "metadata": {
        "id": "7kCF3QnWo5TN"
      }
    },
    {
      "cell_type": "code",
      "source": [
        "# First \n",
        "lamb = 0.1\n",
        "K = 2\n",
        "conf = (np.ones(20))*1.0\n",
        "R = risk_exp(lamb,conf,K,t)\n",
        "#plot\n",
        "plt.step(t, R, label='Step')\n",
        "plt.plot(t, R, 'o--', color=colours_goethe[0], alpha=0.3)\n",
        "\n",
        "# Second\n",
        "lamb = 0.01\n",
        "K = 2\n",
        "conf = (np.ones(20))*1\n",
        "R = risk_exp(lamb,conf,K,t)\n",
        "# plot\n",
        "plt.step(t, R, label='Step')\n",
        "plt.plot(t, R, 'o--', color=colours_goethe[1], alpha=0.3)\n",
        "\n",
        "# Third \n",
        "# Second\n",
        "lamb = 0.001\n",
        "K = 2\n",
        "conf = (np.ones(20))*1\n",
        "R = risk_exp(lamb,conf,K,t)\n",
        "# plot\n",
        "plt.step(t, R, label='Step')\n",
        "plt.plot(t, R, 'o--', color=colours_goethe[2], alpha=0.3)\n"
      ],
      "metadata": {
        "colab": {
          "base_uri": "https://localhost:8080/",
          "height": 283
        },
        "id": "OmmMbJk_opzG",
        "outputId": "ed58071c-1859-4907-ac71-3c7147728041"
      },
      "execution_count": 54,
      "outputs": [
        {
          "output_type": "execute_result",
          "data": {
            "text/plain": [
              "[<matplotlib.lines.Line2D at 0x7f0ea6513d10>]"
            ]
          },
          "metadata": {},
          "execution_count": 54
        },
        {
          "output_type": "display_data",
          "data": {
            "text/plain": [
              "<Figure size 432x288 with 1 Axes>"
            ],
            "image/png": "[encoded data removed]"
          },
          "metadata": {
            "needs_background": "light"
          }
        }
      ]
    },
    {
      "cell_type": "markdown",
      "source": [
        "## Periodic conformity assessment "
      ],
      "metadata": {
        "id": "Tjgd34ixp5LV"
      }
    },
    {
      "cell_type": "code",
      "source": [
        "# First \n",
        "lamb = 0.001\n",
        "conf = 0.5\n",
        "K = 2\n",
        "#t = pd.Series([0,0.1,0.2,0.3,0.4,0.5,0.6,0.7,0.8, 0.9, 1.0])\n",
        "conf = (np.ones(20))*0.8\n",
        "conf[7:13] = 0.2\n",
        "R = risk_exp(lamb,conf,K,t)\n",
        "#plot\n",
        "plt.step(t, R, label='Step')\n",
        "plt.plot(t, R, 'o--', color=colours_goethe[0], alpha=0.3)\n"
      ],
      "metadata": {
        "colab": {
          "base_uri": "https://localhost:8080/",
          "height": 283
        },
        "id": "7NacqJ0EqSGU",
        "outputId": "bdf2eac6-b7ce-4d68-ee8e-8bc57fe8c511"
      },
      "execution_count": 57,
      "outputs": [
        {
          "output_type": "execute_result",
          "data": {
            "text/plain": [
              "[<matplotlib.lines.Line2D at 0x7f0ea698ac10>]"
            ]
          },
          "metadata": {},
          "execution_count": 57
        },
        {
          "output_type": "display_data",
          "data": {
            "text/plain": [
              "<Figure size 432x288 with 1 Axes>"
            ],
            "image/png": "[encoded data removed]"
          },
          "metadata": {
            "needs_background": "light"
          }
        }
      ]
    }
  ],
  "metadata": {
    "interpreter": {
      "hash": "19ef5754d29c9bb12aff20d21a4d3cd1ea664390429f20b1ac1d68b1980c7674"
    },
    "kernelspec": {
      "display_name": "Python 3.9.10 64-bit (windows store)",
      "language": "python",
      "name": "python3"
    },
    "language_info": {
      "codemirror_mode": {
        "name": "ipython",
        "version": 3
      },
      "file_extension": ".py",
      "mimetype": "text/x-python",
      "name": "python",
      "nbconvert_exporter": "python",
      "pygments_lexer": "ipython3",
      "version": "3.9.10"
    },
    "orig_nbformat": 4,
    "colab": {
      "name": "risk_experience_nb.ipynb",
      "provenance": []
    }
  },
  "nbformat": 4,
  "nbformat_minor": 0
}